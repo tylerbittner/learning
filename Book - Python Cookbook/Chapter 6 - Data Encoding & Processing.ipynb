{
 "cells": [
  {
   "cell_type": "markdown",
   "metadata": {},
   "source": [
    "# Python Cookbook: Chapter 6 - Data Encoding & Processing\n",
    "Code samples by chapter: https://github.com/dabeaz/python-cookbook/tree/master/src/"
   ]
  },
  {
   "cell_type": "markdown",
   "metadata": {},
   "source": [
    "## Gotchas to remember"
   ]
  },
  {
   "cell_type": "markdown",
   "metadata": {},
   "source": [
    "..."
   ]
  },
  {
   "cell_type": "markdown",
   "metadata": {},
   "source": [
    "## 6.1 - Reading & Writing CVS data\n"
   ]
  },
  {
   "cell_type": "code",
   "execution_count": 125,
   "metadata": {},
   "outputs": [
    {
     "name": "stdout",
     "output_type": "stream",
     "text": [
      "AA 39.48 6/11/2007\n",
      "AA, 39.48, 6/11/2007, 9:36am, -0.18, 181800\n",
      "AIG 71.38 6/11/2007\n",
      "AIG, 71.38, 6/11/2007, 9:36am, -0.15, 195500\n",
      "AXP 62.58 6/11/2007\n",
      "AXP, 62.58, 6/11/2007, 9:36am, -0.46, 935000\n",
      "BA 98.31 6/11/2007\n",
      "BA, 98.31, 6/11/2007, 9:36am, +0.12, 104800\n",
      "C 53.08 6/11/2007\n",
      "C, 53.08, 6/11/2007, 9:36am, -0.25, 360900\n",
      "CAT 78.29 6/11/2007\n",
      "CAT, 78.29, 6/11/2007, 9:36am, -0.23, 225400\n"
     ]
    }
   ],
   "source": [
    "import csv\n",
    "import requests\n",
    "\n",
    "# Write example csv file locally\n",
    "csv_url = 'https://raw.githubusercontent.com/dabeaz/python-cookbook/master/src/6/reading_and_writing_csv_data/stocks.csv'\n",
    "response = requests.get(csv_url)\n",
    "stocks_file = 'working_data/stocks.csv'\n",
    "with open(stocks_file, 'w') as f:\n",
    "    f.write(response.text)\n",
    "\n",
    "# Read it\n",
    "with open(stocks_file) as f:\n",
    "    # Read as list of strings\n",
    "    f_csv = csv.reader(f)\n",
    "    headers = next(f_csv)\n",
    "    for row in f_csv:\n",
    "        # Access by list index\n",
    "        print(row[0], row[1], row[2])\n",
    "        # Or print all items in list\n",
    "        print(', '.join(row))"
   ]
  },
  {
   "cell_type": "code",
   "execution_count": 126,
   "metadata": {},
   "outputs": [
    {
     "name": "stdout",
     "output_type": "stream",
     "text": [
      "Symbol: AA Price: 39.48\n",
      "Symbol: AIG Price: 71.38\n",
      "Symbol: AXP Price: 62.58\n",
      "Symbol: BA Price: 98.31\n",
      "Symbol: C Price: 53.08\n",
      "Symbol: CAT Price: 78.29\n"
     ]
    }
   ],
   "source": [
    "# Use namedtuple for readability\n",
    "from collections import namedtuple\n",
    "\n",
    "with open(stocks_file) as f:\n",
    "    f_csv = csv.reader(f)\n",
    "    headers = next(f_csv)\n",
    "    Row = namedtuple('Row', headers)\n",
    "    for r in f_csv:\n",
    "        row = Row(*r)     # Note, the namedtuple must be instatiated w/ positional (or keyword) args\n",
    "        print('Symbol:', row.Symbol, 'Price:', row.Price)"
   ]
  },
  {
   "cell_type": "code",
   "execution_count": 127,
   "metadata": {},
   "outputs": [
    {
     "name": "stdout",
     "output_type": "stream",
     "text": [
      "Symbol: AA Price: 39.48\n",
      "Symbol: AIG Price: 71.38\n",
      "Symbol: AXP Price: 62.58\n",
      "Symbol: BA Price: 98.31\n",
      "Symbol: C Price: 53.08\n",
      "Symbol: CAT Price: 78.29\n"
     ]
    }
   ],
   "source": [
    "# Load as dict\n",
    "\n",
    "# Save for later writing\n",
    "dict_rows = []\n",
    "\n",
    "with open(stocks_file) as f:\n",
    "    f_csv = csv.DictReader(f)    # Note it assumes first row contains headers if not passed as args\n",
    "    for row in f_csv:\n",
    "        dict_rows.append(row)\n",
    "        print('Symbol:', row['Symbol'], 'Price:', row['Price'])"
   ]
  },
  {
   "cell_type": "code",
   "execution_count": 128,
   "metadata": {},
   "outputs": [
    {
     "name": "stdout",
     "output_type": "stream",
     "text": [
      "Symbol,Price,Date,Time,Change,Volume\n",
      "AA,39.48,6/11/2007,9:36am,-0.18,181800\n",
      "AIG,71.38,6/11/2007,9:36am,-0.15,195500\n",
      "AXP,62.58,6/11/2007,9:36am,-0.46,935000\n",
      "BA,98.31,6/11/2007,9:36am,+0.12,104800\n",
      "C,53.08,6/11/2007,9:36am,-0.25,360900\n",
      "CAT,78.29,6/11/2007,9:36am,-0.23,225400\n",
      "\n"
     ]
    }
   ],
   "source": [
    "# Write csv file\n",
    "\n",
    "# Load data first\n",
    "rows = []\n",
    "with open(stocks_file) as f:\n",
    "    f_csv = csv.reader(f)\n",
    "    headers = next(f_csv)\n",
    "    for row in f_csv:\n",
    "        rows.append(row)\n",
    "\n",
    "# Write data\n",
    "with open(stocks_file + '.out', 'w') as f:\n",
    "    f_csv_out = csv.writer(f)\n",
    "    f_csv_out.writerow(headers)\n",
    "    f_csv_out.writerows(rows)\n",
    "\n",
    "# Show results using shell for fun -- See Recipe 13.6\n",
    "import subprocess\n",
    "# returns a *byte string*\n",
    "out = subprocess.check_output(['cat', stocks_file + '.out'])\n",
    "print(out.decode('utf-8'))"
   ]
  },
  {
   "cell_type": "code",
   "execution_count": null,
   "metadata": {},
   "outputs": [],
   "source": []
  },
  {
   "cell_type": "code",
   "execution_count": 129,
   "metadata": {},
   "outputs": [
    {
     "name": "stdout",
     "output_type": "stream",
     "text": [
      "Symbol,Price,Date,Time,Change,Volume\n",
      "AA,39.48,6/11/2007,9:36am,-0.18,181800\n",
      "AIG,71.38,6/11/2007,9:36am,-0.15,195500\n",
      "AXP,62.58,6/11/2007,9:36am,-0.46,935000\n",
      "BA,98.31,6/11/2007,9:36am,+0.12,104800\n",
      "C,53.08,6/11/2007,9:36am,-0.25,360900\n",
      "CAT,78.29,6/11/2007,9:36am,-0.23,225400\n",
      "\n"
     ]
    }
   ],
   "source": [
    "# Write from sequence of dicts\n",
    "with open(stocks_file + '.dict.out', 'w') as f:\n",
    "    f_csv = csv.DictWriter(f, headers)\n",
    "    f_csv.writeheader()\n",
    "    f_csv.writerows(dict_rows)\n",
    "\n",
    "# Show results using shell for fun -- See Recipe 13.6\n",
    "import subprocess\n",
    "# returns a *byte string*\n",
    "out = subprocess.check_output(['cat', stocks_file + '.dict.out'])\n",
    "print(out.decode('utf-8'))"
   ]
  },
  {
   "cell_type": "markdown",
   "metadata": {},
   "source": [
    "### Read cvs w/ pandas "
   ]
  },
  {
   "cell_type": "code",
   "execution_count": 130,
   "metadata": {},
   "outputs": [
    {
     "data": {
      "text/html": [
       "<div>\n",
       "<style scoped>\n",
       "    .dataframe tbody tr th:only-of-type {\n",
       "        vertical-align: middle;\n",
       "    }\n",
       "\n",
       "    .dataframe tbody tr th {\n",
       "        vertical-align: top;\n",
       "    }\n",
       "\n",
       "    .dataframe thead th {\n",
       "        text-align: right;\n",
       "    }\n",
       "</style>\n",
       "<table border=\"1\" class=\"dataframe\">\n",
       "  <thead>\n",
       "    <tr style=\"text-align: right;\">\n",
       "      <th></th>\n",
       "      <th>Symbol</th>\n",
       "      <th>Price</th>\n",
       "      <th>Date</th>\n",
       "      <th>Time</th>\n",
       "      <th>Change</th>\n",
       "      <th>Volume</th>\n",
       "    </tr>\n",
       "  </thead>\n",
       "  <tbody>\n",
       "    <tr>\n",
       "      <th>0</th>\n",
       "      <td>AA</td>\n",
       "      <td>39.48</td>\n",
       "      <td>6/11/2007</td>\n",
       "      <td>9:36am</td>\n",
       "      <td>-0.18</td>\n",
       "      <td>181800</td>\n",
       "    </tr>\n",
       "    <tr>\n",
       "      <th>1</th>\n",
       "      <td>AIG</td>\n",
       "      <td>71.38</td>\n",
       "      <td>6/11/2007</td>\n",
       "      <td>9:36am</td>\n",
       "      <td>-0.15</td>\n",
       "      <td>195500</td>\n",
       "    </tr>\n",
       "    <tr>\n",
       "      <th>2</th>\n",
       "      <td>AXP</td>\n",
       "      <td>62.58</td>\n",
       "      <td>6/11/2007</td>\n",
       "      <td>9:36am</td>\n",
       "      <td>-0.46</td>\n",
       "      <td>935000</td>\n",
       "    </tr>\n",
       "    <tr>\n",
       "      <th>3</th>\n",
       "      <td>BA</td>\n",
       "      <td>98.31</td>\n",
       "      <td>6/11/2007</td>\n",
       "      <td>9:36am</td>\n",
       "      <td>0.12</td>\n",
       "      <td>104800</td>\n",
       "    </tr>\n",
       "    <tr>\n",
       "      <th>4</th>\n",
       "      <td>C</td>\n",
       "      <td>53.08</td>\n",
       "      <td>6/11/2007</td>\n",
       "      <td>9:36am</td>\n",
       "      <td>-0.25</td>\n",
       "      <td>360900</td>\n",
       "    </tr>\n",
       "  </tbody>\n",
       "</table>\n",
       "</div>"
      ],
      "text/plain": [
       "  Symbol  Price       Date    Time  Change  Volume\n",
       "0     AA  39.48  6/11/2007  9:36am   -0.18  181800\n",
       "1    AIG  71.38  6/11/2007  9:36am   -0.15  195500\n",
       "2    AXP  62.58  6/11/2007  9:36am   -0.46  935000\n",
       "3     BA  98.31  6/11/2007  9:36am    0.12  104800\n",
       "4      C  53.08  6/11/2007  9:36am   -0.25  360900"
      ]
     },
     "execution_count": 130,
     "metadata": {},
     "output_type": "execute_result"
    }
   ],
   "source": [
    "import pandas as pd\n",
    "\n",
    "df = pd.read_csv(stocks_file)\n",
    "df.head()"
   ]
  },
  {
   "cell_type": "markdown",
   "metadata": {},
   "source": [
    "## 6.1 - Reading & Writing JSON data"
   ]
  },
  {
   "cell_type": "code",
   "execution_count": 131,
   "metadata": {},
   "outputs": [
    {
     "name": "stdout",
     "output_type": "stream",
     "text": [
      "[{\"symbol\": \"AA\", \"price\": 33.48, \"date\": \"6/11/2007\"}, {\"symbol\": \"AIG\", \"price\": 71.38, \"date\": \"6/11/2007\"}]\n"
     ]
    }
   ],
   "source": [
    "import json\n",
    "\n",
    "# Note putting dicts within list is better json structure, esp. for reading into pandas DataFrame\n",
    "data = [\n",
    "    {\n",
    "        'symbol': 'AA',\n",
    "        'price': 33.48,\n",
    "        'date': '6/11/2007'\n",
    "    },\n",
    "    {\n",
    "        \"symbol\": \"AIG\",\n",
    "        \"price\": 71.38,\n",
    "        \"date\": \"6/11/2007\"\n",
    "    }\n",
    "]\n",
    "\n",
    "# Turn python object into string\n",
    "json_str = json.dumps(data)\n",
    "print(json_str)"
   ]
  },
  {
   "cell_type": "code",
   "execution_count": 132,
   "metadata": {},
   "outputs": [
    {
     "name": "stdout",
     "output_type": "stream",
     "text": [
      "Object type: <class 'list'>\n",
      "[{'symbol': 'AA', 'price': 33.48, 'date': '6/11/2007'}, {'symbol': 'AIG', 'price': 71.38, 'date': '6/11/2007'}]\n"
     ]
    }
   ],
   "source": [
    "# Turn back into python object\n",
    "data = json.loads(json_str)\n",
    "print('Object type:', type(data))\n",
    "print(data)"
   ]
  },
  {
   "cell_type": "code",
   "execution_count": 133,
   "metadata": {},
   "outputs": [
    {
     "name": "stdout",
     "output_type": "stream",
     "text": [
      "[{'symbol': 'AA', 'price': 33.48, 'date': '6/11/2007'}, {'symbol': 'AIG', 'price': 71.38, 'date': '6/11/2007'}]\n"
     ]
    }
   ],
   "source": [
    "# Write & re-read the data as json\n",
    "json_file = 'working_data/stocks.json'\n",
    "with open(json_file, 'w') as f:\n",
    "    json.dump(data, f)\n",
    "\n",
    "\n",
    "with open(json_file) as f:\n",
    "    data_loaded = json.load(f)\n",
    "    print(data_loaded)"
   ]
  },
  {
   "cell_type": "code",
   "execution_count": 134,
   "metadata": {},
   "outputs": [
    {
     "name": "stdout",
     "output_type": "stream",
     "text": [
      "('[{\"Symbol\": \"AA\", \"Price\": \"39.48\", \"Date\": \"6/11/2007\", \"Time\": \"9:36am\", '\n",
      " '\"Change\": \"-0.18\", \"Volume\": \"181800\"}, {\"Symbol\": \"AIG\", \"Price\": \"71.38\", '\n",
      " '\"Date\": \"6/11/2007\", \"Time\": \"9:36am\", \"Change\": \"-0.15\", \"Volume\": '\n",
      " '\"195500\"}, {\"Symbol\": \"AXP\", \"Price\": \"62.58\", \"Date\": \"6/11/2007\", \"Time\": '\n",
      " '\"9:36am\", \"Change\": \"-0.46\", \"Volume\": \"935000\"}, {\"Symbol\": \"BA\", \"Price\": '\n",
      " '\"98.31\", \"Date\": \"6/11/2007\", \"Time\": \"9:36am\", \"Change\": \"+0.12\", \"Volume\": '\n",
      " '\"104800\"}, {\"Symbol\": \"C\", \"Price\": \"53.08\", \"Date\": \"6/11/2007\", \"Time\": '\n",
      " '\"9:36am\", \"Change\": \"-0.25\", \"Volume\": \"360900\"}, {\"Symbol\": \"CAT\", \"Price\": '\n",
      " '\"78.29\", \"Date\": \"6/11/2007\", \"Time\": \"9:36am\", \"Change\": \"-0.23\", \"Volume\": '\n",
      " '\"225400\"}]')\n"
     ]
    }
   ],
   "source": [
    "# Pretty print a larger json string\n",
    "from pprint import pprint\n",
    "\n",
    "dict_rows = []\n",
    "with open(stocks_file) as f:\n",
    "    f_csv = csv.DictReader(f)\n",
    "    for row in f_csv:\n",
    "        dict_rows.append(row)\n",
    "\n",
    "# Doesn't do much.\n",
    "pprint(json.dumps(dict_rows))"
   ]
  },
  {
   "cell_type": "code",
   "execution_count": 138,
   "metadata": {},
   "outputs": [
    {
     "name": "stdout",
     "output_type": "stream",
     "text": [
      "[\n",
      "    {\n",
      "        \"Change\": \"-0.18\",\n",
      "        \"Date\": \"6/11/2007\",\n",
      "        \"Price\": \"39.48\",\n",
      "        \"Symbol\": \"AA\",\n",
      "        \"Time\": \"9:36am\",\n",
      "        \"Volume\": \"181800\"\n",
      "    },\n",
      "    {\n",
      "        \"Change\": \"-0.15\",\n",
      "        \"Date\": \"6/11/2007\",\n",
      "        \"Price\": \"71.38\",\n",
      "        \"Symbol\": \"AIG\",\n",
      "        \"Time\": \"9:36am\",\n",
      "        \"Volume\": \"195500\"\n",
      "    },\n",
      "    {\n",
      "        \"Change\": \"-0.46\",\n",
      "        \"Date\": \"6/11/2007\",\n",
      "        \"Price\": \"62.58\",\n",
      "        \"Symbol\": \"AXP\",\n",
      "        \"Time\": \"9:36am\",\n",
      "        \"Volume\": \"935000\"\n",
      "    },\n",
      "    {\n",
      "        \"Change\": \"+0.12\",\n",
      "        \"Date\": \"6/11/2007\",\n",
      "        \"Price\": \"98.31\",\n",
      "        \"Symbol\": \"BA\",\n",
      "        \"Time\": \"9:36am\",\n",
      "        \"Volume\": \"104800\"\n",
      "    },\n",
      "    {\n",
      "        \"Change\": \"-0.25\",\n",
      "        \"Date\": \"6/11/2007\",\n",
      "        \"Price\": \"53.08\",\n",
      "        \"Symbol\": \"C\",\n",
      "        \"Time\": \"9:36am\",\n",
      "        \"Volume\": \"360900\"\n",
      "    },\n",
      "    {\n",
      "        \"Change\": \"-0.23\",\n",
      "        \"Date\": \"6/11/2007\",\n",
      "        \"Price\": \"78.29\",\n",
      "        \"Symbol\": \"CAT\",\n",
      "        \"Time\": \"9:36am\",\n",
      "        \"Volume\": \"225400\"\n",
      "    }\n",
      "]\n"
     ]
    }
   ],
   "source": [
    "# Also pretty print using indent option; sort_keys option too\n",
    "print(json.dumps(dict_rows, indent=4, sort_keys=True))"
   ]
  },
  {
   "cell_type": "markdown",
   "metadata": {},
   "source": [
    "### Read json w/ pandas "
   ]
  },
  {
   "cell_type": "code",
   "execution_count": 136,
   "metadata": {},
   "outputs": [
    {
     "data": {
      "text/html": [
       "<div>\n",
       "<style scoped>\n",
       "    .dataframe tbody tr th:only-of-type {\n",
       "        vertical-align: middle;\n",
       "    }\n",
       "\n",
       "    .dataframe tbody tr th {\n",
       "        vertical-align: top;\n",
       "    }\n",
       "\n",
       "    .dataframe thead th {\n",
       "        text-align: right;\n",
       "    }\n",
       "</style>\n",
       "<table border=\"1\" class=\"dataframe\">\n",
       "  <thead>\n",
       "    <tr style=\"text-align: right;\">\n",
       "      <th></th>\n",
       "      <th>symbol</th>\n",
       "      <th>price</th>\n",
       "      <th>date</th>\n",
       "    </tr>\n",
       "  </thead>\n",
       "  <tbody>\n",
       "    <tr>\n",
       "      <th>0</th>\n",
       "      <td>AA</td>\n",
       "      <td>33.48</td>\n",
       "      <td>2007-06-11</td>\n",
       "    </tr>\n",
       "    <tr>\n",
       "      <th>1</th>\n",
       "      <td>AIG</td>\n",
       "      <td>71.38</td>\n",
       "      <td>2007-06-11</td>\n",
       "    </tr>\n",
       "  </tbody>\n",
       "</table>\n",
       "</div>"
      ],
      "text/plain": [
       "  symbol  price       date\n",
       "0     AA  33.48 2007-06-11\n",
       "1    AIG  71.38 2007-06-11"
      ]
     },
     "execution_count": 136,
     "metadata": {},
     "output_type": "execute_result"
    }
   ],
   "source": [
    "# Note: When json string contains a *list* of dicts it can be loaded as DataFrame; numerical index is assumed if none specified\n",
    "df_json = pd.read_json(json_file)\n",
    "df_json.head()"
   ]
  },
  {
   "cell_type": "code",
   "execution_count": 137,
   "metadata": {},
   "outputs": [
    {
     "data": {
      "text/plain": [
       "symbol           AA\n",
       "price         33.48\n",
       "date      6/11/2007\n",
       "dtype: object"
      ]
     },
     "execution_count": 137,
     "metadata": {},
     "output_type": "execute_result"
    }
   ],
   "source": [
    "# A single dict record in the json can be loaded as a *Series*\n",
    "data_series = {\n",
    "        'symbol': 'AA',\n",
    "        'price': 33.48,\n",
    "        'date': '6/11/2007'\n",
    "    }\n",
    "series = pd.read_json(json.dumps(data_series), typ='series')\n",
    "series.head()"
   ]
  },
  {
   "cell_type": "markdown",
   "metadata": {},
   "source": [
    "### Using object hooks"
   ]
  },
  {
   "cell_type": "code",
   "execution_count": 143,
   "metadata": {},
   "outputs": [
    {
     "name": "stdout",
     "output_type": "stream",
     "text": [
      "[OrderedDict([('symbol', 'AA'), ('price', 33.48), ('date', '6/11/2007')]), OrderedDict([('symbol', 'AIG'), ('price', 71.38), ('date', '6/11/2007')])]\n"
     ]
    }
   ],
   "source": [
    "# object_pairs_hook option\n",
    "\n",
    "from collections import OrderedDict\n",
    "\n",
    "json_s = '[{\"symbol\": \"AA\", \"price\": 33.48, \"date\": \"6/11/2007\"}, {\"symbol\": \"AIG\", \"price\": 71.38, \"date\": \"6/11/2007\"}]'\n",
    "\n",
    "dict = json.loads(json_s, object_pairs_hook=OrderedDict)\n",
    "print(dict)"
   ]
  },
  {
   "cell_type": "code",
   "execution_count": null,
   "metadata": {},
   "outputs": [],
   "source": [
    "# object_hook option\n",
    "\n",
    "\n"
   ]
  }
 ],
 "metadata": {
  "kernelspec": {
   "display_name": "Python 3",
   "language": "python",
   "name": "python3"
  },
  "language_info": {
   "codemirror_mode": {
    "name": "ipython",
    "version": 3
   },
   "file_extension": ".py",
   "mimetype": "text/x-python",
   "name": "python",
   "nbconvert_exporter": "python",
   "pygments_lexer": "ipython3",
   "version": "3.7.3"
  }
 },
 "nbformat": 4,
 "nbformat_minor": 4
}
