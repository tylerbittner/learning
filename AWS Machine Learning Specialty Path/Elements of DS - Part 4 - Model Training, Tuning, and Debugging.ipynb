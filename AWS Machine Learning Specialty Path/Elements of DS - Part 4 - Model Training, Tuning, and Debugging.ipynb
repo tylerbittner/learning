{
 "cells": [
  {
   "cell_type": "markdown",
   "metadata": {},
   "source": [
    "# Elements of Data Science Part 4: Model Training, Tuning, and Debugging\n",
    "[Course link](https://www.aws.training/Details/eLearning?id=26598)"
   ]
  },
  {
   "cell_type": "markdown",
   "metadata": {},
   "source": [
    "## Regularization\n",
    "Illustration of L1 vs L2 regularization.  L1 will reduce weights to effectively zero so is useful for feature selection -- only the important/impactful features remain.\n",
    "\n",
    "`total cost = cost f(x) + regularization penalty`\n",
    "For example, in linear regression:\n",
    "`total cost = sum of squared errors for + sum of weights`\n",
    "\n",
    "* The concentric circles shape in upper right is the sum of the squared errors from the cost function.\n",
    "* The lower left shape is the regularization penalty term values, which is basically the sum of the weights w1 and w2.\n",
    "* Note from geometry the contour of a value *squared* is curved (hence the circles for the penalty term in L2).\n",
    "\n",
    "![L1 vs L2](regularization_illustrated.png)"
   ]
  },
  {
   "cell_type": "code",
   "execution_count": null,
   "metadata": {},
   "outputs": [],
   "source": []
  },
  {
   "cell_type": "code",
   "execution_count": null,
   "metadata": {},
   "outputs": [],
   "source": []
  }
 ],
 "metadata": {
  "kernelspec": {
   "display_name": "Python 3",
   "language": "python",
   "name": "python3"
  },
  "language_info": {
   "codemirror_mode": {
    "name": "ipython",
    "version": 3
   },
   "file_extension": ".py",
   "mimetype": "text/x-python",
   "name": "python",
   "nbconvert_exporter": "python",
   "pygments_lexer": "ipython3",
   "version": "3.7.3"
  }
 },
 "nbformat": 4,
 "nbformat_minor": 4
}
