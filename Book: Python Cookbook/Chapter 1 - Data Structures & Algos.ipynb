{
 "cells": [
  {
   "cell_type": "markdown",
   "metadata": {},
   "source": [
    "# Python Cookbook: Chapter 1 - Data Structures and Algorithms\n",
    "Code samples by chapter: https://github.com/dabeaz/python-cookbook/tree/master/src/"
   ]
  },
  {
   "cell_type": "markdown",
   "metadata": {},
   "source": [
    "## 0 - Gotchas to remember"
   ]
  },
  {
   "cell_type": "markdown",
   "metadata": {},
   "source": [
    "`random.randint(a, b)`\n",
    "\n",
    "Returns a random integer N such that a <= N **<= b**. <--- **This differs from the convention of b being *exclusive* as with slicing and range()**"
   ]
  },
  {
   "cell_type": "markdown",
   "metadata": {},
   "source": [
    "## 1.1 - Unpacking sequences\n",
    "Use cases: You have an iterable or sequence you want to unpack into separate variables."
   ]
  },
  {
   "cell_type": "code",
   "execution_count": 13,
   "metadata": {},
   "outputs": [
    {
     "name": "stdout",
     "output_type": "stream",
     "text": [
      "4\n",
      "5\n",
      "(4, 5)\n"
     ]
    }
   ],
   "source": [
    "p = (4, 5)\n",
    "x, y = p\n",
    "print(x)\n",
    "print(y)\n",
    "print(p)"
   ]
  },
  {
   "cell_type": "code",
   "execution_count": 14,
   "metadata": {},
   "outputs": [
    {
     "name": "stdout",
     "output_type": "stream",
     "text": [
      "Got a ValueError with message: not enough values to unpack (expected 3, got 2)\n"
     ]
    }
   ],
   "source": [
    "# We get ValueError exception if mismatch\n",
    "try:\n",
    "    x, y, z = p\n",
    "except ValueError as e:\n",
    "    print(f'Got a ValueError with message: {e}')"
   ]
  },
  {
   "cell_type": "code",
   "execution_count": 15,
   "metadata": {},
   "outputs": [
    {
     "name": "stdout",
     "output_type": "stream",
     "text": [
      "e l\n"
     ]
    }
   ],
   "source": [
    "# Unpacking works with any *Iterable*\n",
    "_, b, c, _, _ = 'hello'\n",
    "print(b, c)"
   ]
  },
  {
   "cell_type": "markdown",
   "metadata": {},
   "source": [
    "## 1.2 - Star expressions/Unpacking from iterable of arbitrary length\n",
    "Use case: You need to unpack an iterable of variable length."
   ]
  },
  {
   "cell_type": "code",
   "execution_count": 16,
   "metadata": {},
   "outputs": [
    {
     "name": "stdout",
     "output_type": "stream",
     "text": [
      "[67, 69, 77, 83, 86, 94, 95, 99]\n",
      "79.44444444444444\n"
     ]
    }
   ],
   "source": [
    "grades = [45, 67, 69, 77, 83, 86, 94, 95, 99, 100]\n",
    "first, *mid, last = grades\n",
    "print(mid)\n",
    "\n",
    "from statistics import mean\n",
    "*others, highest = grades\n",
    "print(mean(others))"
   ]
  },
  {
   "cell_type": "code",
   "execution_count": 17,
   "metadata": {},
   "outputs": [
    {
     "name": "stdout",
     "output_type": "stream",
     "text": [
      "['917-555-5555', '888-555-6789']\n",
      "Empty list example:\n",
      "[]\n"
     ]
    }
   ],
   "source": [
    "record = ['Dave', 'dave@example.com', '917-555-5555', '888-555-6789']\n",
    "name, email, *phone_numbers = record\n",
    "print(phone_numbers)\n",
    "\n",
    "# The unpacked *var is always a list for consistency, even if empty!\n",
    "record2 = ['Dave', 'dave@example.com']\n",
    "name, email, *phone_numbers = record2\n",
    "print(f'Empty list example:\\n{phone_numbers}')"
   ]
  },
  {
   "cell_type": "code",
   "execution_count": 18,
   "metadata": {},
   "outputs": [
    {
     "name": "stdout",
     "output_type": "stream",
     "text": [
      "foo 1 and 2\n",
      "bar hello\n",
      "foo 3 and 4\n"
     ]
    }
   ],
   "source": [
    "# Handy for iterating over a SEQUENCE OF TUPLES OF VARYING LENGTH\n",
    "records = [\n",
    "    ('foo', 1, 2),\n",
    "    ('bar', 'hello'),\n",
    "    ('foo', 3, 4)\n",
    "]\n",
    "\n",
    "def do_foo(num1, num2):\n",
    "    print(f'foo {num1} and {num2}')\n",
    "\n",
    "def do_bar(message):\n",
    "    print(f'bar {message}')\n",
    "\n",
    "for tag, *args in records:\n",
    "    if tag == 'foo':\n",
    "        do_foo(*args)\n",
    "    else:\n",
    "        do_bar(*args)\n",
    "\n",
    "# NOTE: using the star in a function arg (like *args) automatically unpacks the list!!!"
   ]
  },
  {
   "cell_type": "code",
   "execution_count": 19,
   "metadata": {},
   "outputs": [
    {
     "name": "stdout",
     "output_type": "stream",
     "text": [
      "uname is \"nobody\", homedir is \"/usr/bin/false\"\n"
     ]
    }
   ],
   "source": [
    "# Example with string splitting\n",
    "line = 'nobody:*:2:2:Unprived user:/var/empty:/usr/bin/false'\n",
    "uname, *_, homedir = line.split(':')\n",
    "print(f'uname is \"{uname}\", homedir is \"{homedir}\"')"
   ]
  },
  {
   "cell_type": "code",
   "execution_count": 20,
   "metadata": {},
   "outputs": [
    {
     "name": "stdout",
     "output_type": "stream",
     "text": [
      "32\n"
     ]
    }
   ],
   "source": [
    "# Example of recursive processing of each item until empty\n",
    "items = [1, 3, 9, 16, 3]\n",
    "\n",
    "def sum(items):\n",
    "    head, *tail = items\n",
    "    return head + sum(tail) if tail else head\n",
    "\n",
    "print(sum(items))"
   ]
  },
  {
   "cell_type": "code",
   "execution_count": 21,
   "metadata": {},
   "outputs": [
    {
     "name": "stdout",
     "output_type": "stream",
     "text": [
      "Current recursion limit is 4000\n",
      "Python recursion limit reached: maximum recursion depth exceeded in comparison\n",
      "New recursion limit is 5000\n"
     ]
    }
   ],
   "source": [
    "# Exploring Python's recursion limit\n",
    "import sys\n",
    "print(f'Current recursion limit is {sys.getrecursionlimit()}')\n",
    "\n",
    "def recurse_a_lot(limit, n):\n",
    "    if n >= limit:\n",
    "        return n\n",
    "    else:\n",
    "        return recurse_a_lot(limit, n+1)\n",
    "\n",
    "try:\n",
    "    result = recurse_a_lot(sys.getrecursionlimit() + 1, 0)\n",
    "except RecursionError as e:\n",
    "    print(f'Python recursion limit reached: {e}')\n",
    "\n",
    "sys.setrecursionlimit(sys.getrecursionlimit() + 1000)\n",
    "print(f'New recursion limit is {sys.getrecursionlimit()}')"
   ]
  },
  {
   "cell_type": "markdown",
   "metadata": {},
   "source": [
    "## 1.3 - Keeping last N items\n",
    "Use Cases: You want to keep a limited history of the last N items seen during processing.\n",
    "\n",
    "* deque operations from either end are **O(1)** time. appendleft()/popleft() on *regular lists* is **O(n)**."
   ]
  },
  {
   "cell_type": "code",
   "execution_count": 22,
   "metadata": {},
   "outputs": [
    {
     "name": "stdout",
     "output_type": "stream",
     "text": [
      "   \"source\": [\n",
      "    \"# Chapter 1 - Data Structures and Algorithms\\n\",\n",
      "    \"Code samples download: https://github.com/dabeaz/python-cookbook/tree/master/src/1\"\n",
      "--------------------\n",
      "      \"\\u001b[0;31m---------------------------------------------------------------------------\\u001b[0m\",\n",
      "      \"\\u001b[0;31mNameError\\u001b[0m                                 Traceback (most recent call last)\",\n",
      "      \"\\u001b[0;32m<ipython-input-11-57ae32228682>\\u001b[0m in \\u001b[0;36m<module>\\u001b[0;34m\\u001b[0m\\n\\u001b[1;32m     10\\u001b[0m \\u001b[0;32mwith\\u001b[0m \\u001b[0mopen\\u001b[0m\\u001b[0;34m(\\u001b[0m\\u001b[0;34m'Chapter 1 - Data Structures & Algos.ipynb'\\u001b[0m\\u001b[0;34m)\\u001b[0m \\u001b[0;32mas\\u001b[0m \\u001b[0mf\\u001b[0m\\u001b[0;34m:\\u001b[0m\\u001b[0;34m\\u001b[0m\\u001b[0;34m\\u001b[0m\\u001b[0m\\n\\u001b[1;32m     11\\u001b[0m     \\u001b[0mloop_cnt\\u001b[0m \\u001b[0;34m=\\u001b[0m \\u001b[0;36m0\\u001b[0m\\u001b[0;34m\\u001b[0m\\u001b[0;34m\\u001b[0m\\u001b[0m\\n\\u001b[0;32m---> 12\\u001b[0;31m     \\u001b[0;32mfor\\u001b[0m \\u001b[0mline\\u001b[0m\\u001b[0;34m,\\u001b[0m \\u001b[0mprevlines\\u001b[0m \\u001b[0;32min\\u001b[0m \\u001b[0msearch\\u001b[0m\\u001b[0;34m(\\u001b[0m\\u001b[0mf\\u001b[0m\\u001b[0;34m,\\u001b[0m \\u001b[0;34m'python'\\u001b[0m\\u001b[0;34m,\\u001b[0m \\u001b[0;36m2\\u001b[0m\\u001b[0;34m)\\u001b[0m\\u001b[0;34m:\\u001b[0m\\u001b[0;34m\\u001b[0m\\u001b[0;34m\\u001b[0m\\u001b[0m\\n\\u001b[0m\\u001b[1;32m     13\\u001b[0m         \\u001b[0mloop_cnt\\u001b[0m \\u001b[0;34m+=\\u001b[0m \\u001b[0;36m1\\u001b[0m\\u001b[0;34m\\u001b[0m\\u001b[0;34m\\u001b[0m\\u001b[0m\\n\\u001b[1;32m     14\\u001b[0m         \\u001b[0;32mfor\\u001b[0m \\u001b[0mpline\\u001b[0m \\u001b[0;32min\\u001b[0m \\u001b[0mprevlines\\u001b[0m\\u001b[0;34m:\\u001b[0m\\u001b[0;34m\\u001b[0m\\u001b[0;34m\\u001b[0m\\u001b[0m\\n\",\n",
      "--------------------\n",
      "      \"\\u001b[0;31mNameError\\u001b[0m                                 Traceback (most recent call last)\",\n",
      "      \"\\u001b[0;32m<ipython-input-11-57ae32228682>\\u001b[0m in \\u001b[0;36m<module>\\u001b[0;34m\\u001b[0m\\n\\u001b[1;32m     10\\u001b[0m \\u001b[0;32mwith\\u001b[0m \\u001b[0mopen\\u001b[0m\\u001b[0;34m(\\u001b[0m\\u001b[0;34m'Chapter 1 - Data Structures & Algos.ipynb'\\u001b[0m\\u001b[0;34m)\\u001b[0m \\u001b[0;32mas\\u001b[0m \\u001b[0mf\\u001b[0m\\u001b[0;34m:\\u001b[0m\\u001b[0;34m\\u001b[0m\\u001b[0;34m\\u001b[0m\\u001b[0m\\n\\u001b[1;32m     11\\u001b[0m     \\u001b[0mloop_cnt\\u001b[0m \\u001b[0;34m=\\u001b[0m \\u001b[0;36m0\\u001b[0m\\u001b[0;34m\\u001b[0m\\u001b[0;34m\\u001b[0m\\u001b[0m\\n\\u001b[0;32m---> 12\\u001b[0;31m     \\u001b[0;32mfor\\u001b[0m \\u001b[0mline\\u001b[0m\\u001b[0;34m,\\u001b[0m \\u001b[0mprevlines\\u001b[0m \\u001b[0;32min\\u001b[0m \\u001b[0msearch\\u001b[0m\\u001b[0;34m(\\u001b[0m\\u001b[0mf\\u001b[0m\\u001b[0;34m,\\u001b[0m \\u001b[0;34m'python'\\u001b[0m\\u001b[0;34m,\\u001b[0m \\u001b[0;36m2\\u001b[0m\\u001b[0;34m)\\u001b[0m\\u001b[0;34m:\\u001b[0m\\u001b[0;34m\\u001b[0m\\u001b[0;34m\\u001b[0m\\u001b[0m\\n\\u001b[0m\\u001b[1;32m     13\\u001b[0m         \\u001b[0mloop_cnt\\u001b[0m \\u001b[0;34m+=\\u001b[0m \\u001b[0;36m1\\u001b[0m\\u001b[0;34m\\u001b[0m\\u001b[0;34m\\u001b[0m\\u001b[0m\\n\\u001b[1;32m     14\\u001b[0m         \\u001b[0;32mfor\\u001b[0m \\u001b[0mpline\\u001b[0m \\u001b[0;32min\\u001b[0m \\u001b[0mprevlines\\u001b[0m\\u001b[0;34m:\\u001b[0m\\u001b[0;34m\\u001b[0m\\u001b[0;34m\\u001b[0m\\u001b[0m\\n\",\n",
      "      \"\\u001b[0;32m<ipython-input-11-57ae32228682>\\u001b[0m in \\u001b[0;36msearch\\u001b[0;34m(lines, pattern, history)\\u001b[0m\\n\\u001b[1;32m      1\\u001b[0m \\u001b[0;31m# Full example\\u001b[0m\\u001b[0;34m\\u001b[0m\\u001b[0;34m\\u001b[0m\\u001b[0;34m\\u001b[0m\\u001b[0m\\n\\u001b[1;32m      2\\u001b[0m \\u001b[0;32mdef\\u001b[0m \\u001b[0msearch\\u001b[0m\\u001b[0;34m(\\u001b[0m\\u001b[0mlines\\u001b[0m\\u001b[0;34m,\\u001b[0m \\u001b[0mpattern\\u001b[0m\\u001b[0;34m,\\u001b[0m \\u001b[0mhistory\\u001b[0m\\u001b[0;34m=\\u001b[0m\\u001b[0;36m5\\u001b[0m\\u001b[0;34m)\\u001b[0m\\u001b[0;34m:\\u001b[0m\\u001b[0;34m\\u001b[0m\\u001b[0;34m\\u001b[0m\\u001b[0m\\n\\u001b[0;32m----> 3\\u001b[0;31m     \\u001b[0mprev_lines\\u001b[0m \\u001b[0;34m=\\u001b[0m \\u001b[0mdeque\\u001b[0m\\u001b[0;34m(\\u001b[0m\\u001b[0mmaxlen\\u001b[0m\\u001b[0;34m=\\u001b[0m\\u001b[0mhistory\\u001b[0m\\u001b[0;34m)\\u001b[0m\\u001b[0;34m\\u001b[0m\\u001b[0;34m\\u001b[0m\\u001b[0m\\n\\u001b[0m\\u001b[1;32m      4\\u001b[0m     \\u001b[0;32mfor\\u001b[0m \\u001b[0mline\\u001b[0m \\u001b[0;32min\\u001b[0m \\u001b[0mlines\\u001b[0m\\u001b[0;34m:\\u001b[0m\\u001b[0;34m\\u001b[0m\\u001b[0;34m\\u001b[0m\\u001b[0m\\n\\u001b[1;32m      5\\u001b[0m         \\u001b[0;32mif\\u001b[0m \\u001b[0mpattern\\u001b[0m \\u001b[0;32min\\u001b[0m \\u001b[0mline\\u001b[0m\\u001b[0;34m:\\u001b[0m\\u001b[0;34m\\u001b[0m\\u001b[0;34m\\u001b[0m\\u001b[0m\\n\",\n",
      "--------------------\n",
      "    \"with open('Chapter 1 - Data Structures & Algos.ipynb') as f:\\n\",\n",
      "    \"    loop_cnt = 0\\n\",\n",
      "    \"    for line, prevlines in search(f, 'python', 2):\\n\",\n",
      "--------------------\n"
     ]
    }
   ],
   "source": [
    "from collections import deque\n",
    "\n",
    "# Full example\n",
    "def search(lines, pattern, history=5):\n",
    "    prev_lines = deque(maxlen=history)\n",
    "    for line in lines:\n",
    "        if pattern in line:\n",
    "            yield line, prev_lines\n",
    "        prev_lines.append(line)\n",
    "\n",
    "# processing a file\n",
    "with open('Chapter 1 - Data Structures & Algos.ipynb') as f:\n",
    "    loop_cnt = 0\n",
    "    for line, prevlines in search(f, 'python', 2):\n",
    "        loop_cnt += 1\n",
    "        for pline in prevlines:\n",
    "            print(pline, end='')\n",
    "        print(line, end='')\n",
    "        print('-'*20)\n",
    "        if loop_cnt > 3:\n",
    "            break"
   ]
  },
  {
   "cell_type": "code",
   "execution_count": 23,
   "metadata": {},
   "outputs": [
    {
     "data": {
      "text/plain": [
       "deque([1, 2, 3])"
      ]
     },
     "execution_count": 23,
     "metadata": {},
     "output_type": "execute_result"
    }
   ],
   "source": [
    "from collections import deque\n",
    "\n",
    "q = deque(maxlen=3)\n",
    "q.append(1)\n",
    "q.append(2)\n",
    "q.append(3)\n",
    "q"
   ]
  },
  {
   "cell_type": "code",
   "execution_count": 24,
   "metadata": {},
   "outputs": [
    {
     "data": {
      "text/plain": [
       "deque([3, 4, 5])"
      ]
     },
     "execution_count": 24,
     "metadata": {},
     "output_type": "execute_result"
    }
   ],
   "source": [
    "q.append(4)\n",
    "q.append(5)\n",
    "q"
   ]
  },
  {
   "cell_type": "code",
   "execution_count": 25,
   "metadata": {},
   "outputs": [
    {
     "data": {
      "text/plain": [
       "deque([2, 3, 4])"
      ]
     },
     "execution_count": 25,
     "metadata": {},
     "output_type": "execute_result"
    }
   ],
   "source": [
    "# Add to left of queue\n",
    "q.appendleft(2)\n",
    "q"
   ]
  },
  {
   "cell_type": "code",
   "execution_count": 26,
   "metadata": {},
   "outputs": [
    {
     "data": {
      "text/plain": [
       "deque([2, 3])"
      ]
     },
     "execution_count": 26,
     "metadata": {},
     "output_type": "execute_result"
    }
   ],
   "source": [
    "# Remove from right aka end\n",
    "q.pop()\n",
    "q"
   ]
  },
  {
   "cell_type": "code",
   "execution_count": 27,
   "metadata": {},
   "outputs": [],
   "source": [
    "# Remove from left aka front"
   ]
  },
  {
   "cell_type": "code",
   "execution_count": 28,
   "metadata": {},
   "outputs": [
    {
     "data": {
      "text/plain": [
       "deque([3])"
      ]
     },
     "execution_count": 28,
     "metadata": {},
     "output_type": "execute_result"
    }
   ],
   "source": [
    "q.popleft()\n",
    "q"
   ]
  },
  {
   "cell_type": "code",
   "execution_count": null,
   "metadata": {},
   "outputs": [],
   "source": []
  },
  {
   "cell_type": "markdown",
   "metadata": {
    "toc-hr-collapsed": true,
    "toc-nb-collapsed": true
   },
   "source": [
    "## 1.4 - Finding largest or smallest N items\n",
    "Use case: \\<in the title yo\\>"
   ]
  },
  {
   "cell_type": "code",
   "execution_count": 29,
   "metadata": {},
   "outputs": [
    {
     "name": "stdout",
     "output_type": "stream",
     "text": [
      "3 largest:  [345, 67, 8]\n",
      "3 smallest:  [-34, 1, 2]\n"
     ]
    },
    {
     "data": {
      "text/plain": [
       "[1, 8, 2, 5, 67, 2, 345, -34, 2]"
      ]
     },
     "execution_count": 29,
     "metadata": {},
     "output_type": "execute_result"
    }
   ],
   "source": [
    "import heapq\n",
    "\n",
    "nums = [1, 8, 2, 5, 67, 2, 345, -34, 2]\n",
    "print('3 largest: ', heapq.nlargest(3, nums))\n",
    "print('3 smallest: ', heapq.nsmallest(3, nums))\n",
    "nums"
   ]
  },
  {
   "cell_type": "code",
   "execution_count": 30,
   "metadata": {},
   "outputs": [
    {
     "name": "stdout",
     "output_type": "stream",
     "text": [
      "[{'name': 'YHOO', 'shares': 45, 'price': 16.35}, {'name': 'FB', 'shares': 200, 'price': 21.09}, {'name': 'HPQ', 'shares': 35, 'price': 31.75}]\n",
      "[{'name': 'AAPL', 'shares': 50, 'price': 543.22}, {'name': 'ACME', 'shares': 75, 'price': 115.65}, {'name': 'IBM', 'shares': 100, 'price': 91.1}]\n"
     ]
    }
   ],
   "source": [
    "# Sorting by alternate keys using *key* param\n",
    "\n",
    "portfolio = [\n",
    "   {'name': 'IBM', 'shares': 100, 'price': 91.1},\n",
    "   {'name': 'AAPL', 'shares': 50, 'price': 543.22},\n",
    "   {'name': 'FB', 'shares': 200, 'price': 21.09},\n",
    "   {'name': 'HPQ', 'shares': 35, 'price': 31.75},\n",
    "   {'name': 'YHOO', 'shares': 45, 'price': 16.35},\n",
    "   {'name': 'ACME', 'shares': 75, 'price': 115.65}\n",
    "]\n",
    "\n",
    "cheapest = heapq.nsmallest(3, portfolio, key=lambda stock: stock['price'])\n",
    "priciest = heapq.nlargest(3, portfolio, key=lambda s: s['price'])\n",
    "\n",
    "print(cheapest)\n",
    "print(priciest)"
   ]
  },
  {
   "cell_type": "code",
   "execution_count": 31,
   "metadata": {},
   "outputs": [
    {
     "data": {
      "text/plain": [
       "[-34, 1, 2, 2, 67, 2, 345, 5, 8]"
      ]
     },
     "execution_count": 31,
     "metadata": {},
     "output_type": "execute_result"
    }
   ],
   "source": [
    "# heap ordering\n",
    "heap = nums.copy()    # shallow copy\n",
    "heapq.heapify(heap)\n",
    "heap"
   ]
  },
  {
   "cell_type": "markdown",
   "metadata": {},
   "source": [
    "### Cool heap array ordering based on tree structure math!!!  This is why heaps are so damn fast.\n",
    "- index of a node's left child = `i*2`\n",
    "- index of a node's right child = `i*2 + 1`\n",
    "- index of a node's parent = `floor(i/2)`"
   ]
  },
  {
   "cell_type": "code",
   "execution_count": 32,
   "metadata": {},
   "outputs": [
    {
     "name": "stdout",
     "output_type": "stream",
     "text": [
      "-34\n",
      "1\n",
      "2\n"
     ]
    }
   ],
   "source": [
    "# heappop() is an O(logN) operation\n",
    "print(heapq.heappop(heap))\n",
    "print(heapq.heappop(heap))\n",
    "print(heapq.heappop(heap))"
   ]
  },
  {
   "cell_type": "markdown",
   "metadata": {},
   "source": [
    "## 1.5 - Implementing a priority queue\n",
    "**Use cases:** You want a queue that sorts by a given priority & always returns the highest on each pop."
   ]
  },
  {
   "cell_type": "code",
   "execution_count": 1,
   "metadata": {},
   "outputs": [],
   "source": [
    "import heapq\n",
    "\n",
    "class PriorityQueue:\n",
    "    def __init__(self):\n",
    "        self._queue = []\n",
    "        self._index = 0\n",
    "        \n",
    "    def push(self, item, priority):\n",
    "        heapq.heappush(self._queue, (-priority, self._index, item))\n",
    "        self._index += 1\n",
    "        \n",
    "    def pop(self):\n",
    "        return heapq.heappop(self._queue)[-1]"
   ]
  },
  {
   "cell_type": "code",
   "execution_count": 2,
   "metadata": {},
   "outputs": [
    {
     "name": "stdout",
     "output_type": "stream",
     "text": [
      "Item('bar')\n",
      "Item('spam')\n",
      "Item('foo')\n",
      "Item('grok')\n"
     ]
    }
   ],
   "source": [
    "# Usage\n",
    "    \n",
    "class Item:\n",
    "    def __init__(self, name):\n",
    "        self.name = name\n",
    "    def __repr__(self):\n",
    "        return 'Item({!r})'.format(self.name)\n",
    "\n",
    "# Load queue items with priorities\n",
    "q = PriorityQueue()\n",
    "q.push(Item('foo'), 1)\n",
    "q.push(Item('bar'), 5)\n",
    "q.push(Item('spam'), 4)\n",
    "q.push(Item('grok'), 1)\n",
    "\n",
    "# Pop queue items\n",
    "print(q.pop())\n",
    "print(q.pop())\n",
    "print(q.pop())\n",
    "print(q.pop())"
   ]
  },
  {
   "cell_type": "code",
   "execution_count": 9,
   "metadata": {},
   "outputs": [
    {
     "name": "stdout",
     "output_type": "stream",
     "text": [
      "'<' not supported between instances of 'Item' and 'Item'\n",
      "'<' not supported between instances of 'Item' and 'Item'\n"
     ]
    }
   ],
   "source": [
    "# The '_index' attr is used to retain insertion order as a default sorting since complex objects are not comparable by default.\n",
    "\n",
    "a = Item('test a')\n",
    "b = Item('test b')\n",
    "try:\n",
    "    a < b\n",
    "except TypeError as e:\n",
    "    print(e)\n",
    "\n",
    "try:\n",
    "    sorted([a, b])\n",
    "except TypeError as e:\n",
    "    print(e)"
   ]
  },
  {
   "cell_type": "code",
   "execution_count": 11,
   "metadata": {},
   "outputs": [
    {
     "data": {
      "text/plain": [
       "[Item('test a'), Item('test b')]"
      ]
     },
     "execution_count": 11,
     "metadata": {},
     "output_type": "execute_result"
    }
   ],
   "source": [
    "# The objects can be compared by specifying a key tho:\n",
    "\n",
    "sorted([b, a], key=lambda item: item.name)"
   ]
  },
  {
   "cell_type": "markdown",
   "metadata": {},
   "source": [
    "## 1.6 - Mapping Keys to Multiple Values in a Dictionary\n",
    "**Use cases:** You want to create a \"multidict\"."
   ]
  },
  {
   "cell_type": "code",
   "execution_count": 17,
   "metadata": {},
   "outputs": [
    {
     "data": {
      "text/plain": [
       "{'a': [1, 2, 3], 'b': [3, 5]}"
      ]
     },
     "execution_count": 17,
     "metadata": {},
     "output_type": "execute_result"
    }
   ],
   "source": [
    "# You can create them manually\n",
    "d = {\n",
    "    'a' : [1, 2, 3], \n",
    "    'b': [3, 5]\n",
    "    }\n",
    "d"
   ]
  },
  {
   "cell_type": "code",
   "execution_count": 29,
   "metadata": {},
   "outputs": [
    {
     "name": "stdout",
     "output_type": "stream",
     "text": [
      "d contents::\n",
      "\ta: [1, 2]\n",
      "e contents::\n",
      "\ta: {1, 2}\n"
     ]
    }
   ],
   "source": [
    "# Or more conveniently use **defaultdict** which auto-initializes the value type so you don't have to check first\n",
    "from collections import defaultdict\n",
    "\n",
    "d = defaultdict(list)\n",
    "d['a'].append(1)\n",
    "d['a'].append(2)\n",
    "print('d contents::')\n",
    "for k, v in d.items():\n",
    "    print(f'\\t{k}: {v}')\n",
    "    \n",
    "e = defaultdict(set)\n",
    "e['a'].add(1)\n",
    "e['a'].add(2)\n",
    "print('e contents::')\n",
    "for k, v in e.items():\n",
    "    print(f'\\t{k}: {v}')"
   ]
  },
  {
   "cell_type": "code",
   "execution_count": 28,
   "metadata": {},
   "outputs": [
    {
     "data": {
      "text/plain": [
       "{'a': [1]}"
      ]
     },
     "execution_count": 28,
     "metadata": {},
     "output_type": "execute_result"
    }
   ],
   "source": [
    "# Othewise you may need overly-tedious checking for key presence:\n",
    "d = {}\n",
    "key = 'a'\n",
    "if key not in d:\n",
    "    d[key] = []\n",
    "    d[key].append(1)\n",
    "d"
   ]
  },
  {
   "cell_type": "markdown",
   "metadata": {},
   "source": [
    "## 1.7 - Keeping Dictionaries Items in Order\n",
    "**Use case:** You want to control the order of dict items when iterating or serializing"
   ]
  },
  {
   "cell_type": "code",
   "execution_count": 34,
   "metadata": {},
   "outputs": [
    {
     "name": "stdout",
     "output_type": "stream",
     "text": [
      "('foo', 1): 4\n",
      "('bar', 2): 4\n",
      "('spam', 3): 4\n",
      "('grok', 4): 4\n"
     ]
    }
   ],
   "source": [
    "# Use an OrderedDict! (Note standard dict objects DO now preserve order as of 3.7, but continue to use OrderedDict to show intent explicitely.)\n",
    "\n",
    "from collections import OrderedDict\n",
    "\n",
    "d = OrderedDict()\n",
    "d['foo'] = 1\n",
    "d['bar'] = 2\n",
    "d['spam'] = 3\n",
    "d['grok'] = 4\n",
    "\n",
    "for k in d.items():\n",
    "    print(f'{k}: {v}')"
   ]
  },
  {
   "cell_type": "code",
   "execution_count": 33,
   "metadata": {},
   "outputs": [
    {
     "name": "stdout",
     "output_type": "stream",
     "text": [
      "foo: 1\n",
      "spam: 2\n",
      "bar: 3\n",
      "grok: 4\n"
     ]
    }
   ],
   "source": []
  },
  {
   "cell_type": "markdown",
   "metadata": {},
   "source": [
    "## 1.8 - Calculating with Dictionaries\n",
    "**Use case:** You want to do summary calculations on dict *values*.  Keys are used by default."
   ]
  },
  {
   "cell_type": "code",
   "execution_count": 39,
   "metadata": {},
   "outputs": [
    {
     "name": "stdout",
     "output_type": "stream",
     "text": [
      "min_price = (10.75, 'FB')\n",
      "max_price = (612.78, 'AAPL')\n",
      "sorted_prices = [(10.75, 'FB'), (37.2, 'HPQ'), (45.23, 'ACME'), (205.55, 'IBM'), (612.78, 'AAPL')]\n"
     ]
    }
   ],
   "source": [
    "# Sample data\n",
    "prices = {\n",
    "    'ACME': 45.23,\n",
    "    'AAPL': 612.78,\n",
    "    'IBM': 205.55,\n",
    "    'HPQ': 37.20,\n",
    "    'FB': 10.75,\n",
    "}\n",
    "\n",
    "# SOLUTION: Invert key & values using zip()\n",
    "\n",
    "min_price = min(zip(prices.values(), prices.keys()))\n",
    "print(f'min_price = {min_price}')\n",
    "\n",
    "max_price = max(zip(prices.values(), prices.keys()))\n",
    "print(f'max_price = {max_price}')\n",
    "\n",
    "# Sort\n",
    "sorted_prices = sorted(zip(prices.values(), prices.keys()))\n",
    "print(f'sorted_prices = {sorted_prices}')"
   ]
  },
  {
   "cell_type": "code",
   "execution_count": 44,
   "metadata": {},
   "outputs": [
    {
     "name": "stdout",
     "output_type": "stream",
     "text": [
      "(10.75, 'FB')\n",
      "Exception: max() arg is an empty sequence\n",
      "(10.75, 'FB')\n",
      "(612.78, 'AAPL')\n"
     ]
    }
   ],
   "source": [
    "# Gotcha watch: zip() returns an *iterator* that can only be consumed once.\n",
    "prices_and_names = zip(prices.values(), prices.keys())\n",
    "print(min(prices_and_names))\n",
    "try:\n",
    "    print(max(prices_and_names))\n",
    "except ValueError as e:\n",
    "    print(f'Exception: {e}')\n",
    "\n",
    "# So convert to list to reuse results from zip().\n",
    "prices_and_names_list = list(zip(prices.values(), prices.keys()))\n",
    "print(min(prices_and_names_list))\n",
    "print(max(prices_and_names_list))"
   ]
  },
  {
   "cell_type": "code",
   "execution_count": 46,
   "metadata": {},
   "outputs": [
    {
     "name": "stdout",
     "output_type": "stream",
     "text": [
      "FB\n",
      "10.75\n"
     ]
    }
   ],
   "source": [
    "# Note also that using the 'key' param in summary functions can be used but only returns the key alone.\n",
    "print(min(prices, key=lambda k: prices[k]))\n",
    "\n",
    "# You'd need to include an extra lookup step to get the value.  (Using zip() is more concise.)\n",
    "print(prices[(min(prices, key=lambda k: prices[k]))])"
   ]
  },
  {
   "cell_type": "markdown",
   "metadata": {},
   "source": [
    "## 1.9 - Finding Commonalities in Two Dictionaries\n",
    "**Use case:** You want to find out the common keys or values between two dicts."
   ]
  },
  {
   "cell_type": "code",
   "execution_count": null,
   "metadata": {},
   "outputs": [],
   "source": []
  }
 ],
 "metadata": {
  "kernelspec": {
   "display_name": "Python 3",
   "language": "python",
   "name": "python3"
  },
  "language_info": {
   "codemirror_mode": {
    "name": "ipython",
    "version": 3
   },
   "file_extension": ".py",
   "mimetype": "text/x-python",
   "name": "python",
   "nbconvert_exporter": "python",
   "pygments_lexer": "ipython3",
   "version": "3.7.3"
  }
 },
 "nbformat": 4,
 "nbformat_minor": 4
}
